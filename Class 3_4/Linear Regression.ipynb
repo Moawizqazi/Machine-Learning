{
 "cells": [
  {
   "cell_type": "markdown",
   "id": "103cb76e",
   "metadata": {},
   "source": [
    "# Data\n",
    "* quantitative\n",
    "    *qualitative\n",
    "* discret\n",
    "    * ordinal\n",
    "    * nominal\n",
    "    * categorical data\n",
    "* continues\n",
    "    *continues number"
   ]
  },
  {
   "cell_type": "code",
   "execution_count": 15,
   "id": "530bcdc3",
   "metadata": {},
   "outputs": [],
   "source": [
    "import pandas as pd\n",
    "import numpy as np\n",
    "import matplotlib.pyplot as plt\n"
   ]
  },
  {
   "cell_type": "markdown",
   "id": "6316b50c",
   "metadata": {},
   "source": [
    "* X = independent variable\n",
    "* Y = dependent variable (continues numbers)"
   ]
  },
  {
   "cell_type": "code",
   "execution_count": 16,
   "id": "ee522a36",
   "metadata": {},
   "outputs": [
    {
     "data": {
      "text/html": [
       "<div>\n",
       "<style scoped>\n",
       "    .dataframe tbody tr th:only-of-type {\n",
       "        vertical-align: middle;\n",
       "    }\n",
       "\n",
       "    .dataframe tbody tr th {\n",
       "        vertical-align: top;\n",
       "    }\n",
       "\n",
       "    .dataframe thead th {\n",
       "        text-align: right;\n",
       "    }\n",
       "</style>\n",
       "<table border=\"1\" class=\"dataframe\">\n",
       "  <thead>\n",
       "    <tr style=\"text-align: right;\">\n",
       "      <th></th>\n",
       "      <th>Gender</th>\n",
       "      <th>Height</th>\n",
       "      <th>Weight</th>\n",
       "    </tr>\n",
       "  </thead>\n",
       "  <tbody>\n",
       "    <tr>\n",
       "      <th>0</th>\n",
       "      <td>Male</td>\n",
       "      <td>73.847017</td>\n",
       "      <td>241.893563</td>\n",
       "    </tr>\n",
       "    <tr>\n",
       "      <th>1</th>\n",
       "      <td>Male</td>\n",
       "      <td>68.781904</td>\n",
       "      <td>162.310473</td>\n",
       "    </tr>\n",
       "    <tr>\n",
       "      <th>2</th>\n",
       "      <td>Male</td>\n",
       "      <td>74.110105</td>\n",
       "      <td>212.740856</td>\n",
       "    </tr>\n",
       "    <tr>\n",
       "      <th>3</th>\n",
       "      <td>Male</td>\n",
       "      <td>71.730978</td>\n",
       "      <td>220.042470</td>\n",
       "    </tr>\n",
       "    <tr>\n",
       "      <th>4</th>\n",
       "      <td>Male</td>\n",
       "      <td>69.881796</td>\n",
       "      <td>206.349801</td>\n",
       "    </tr>\n",
       "    <tr>\n",
       "      <th>...</th>\n",
       "      <td>...</td>\n",
       "      <td>...</td>\n",
       "      <td>...</td>\n",
       "    </tr>\n",
       "    <tr>\n",
       "      <th>9995</th>\n",
       "      <td>Female</td>\n",
       "      <td>66.172652</td>\n",
       "      <td>136.777454</td>\n",
       "    </tr>\n",
       "    <tr>\n",
       "      <th>9996</th>\n",
       "      <td>Female</td>\n",
       "      <td>67.067155</td>\n",
       "      <td>170.867906</td>\n",
       "    </tr>\n",
       "    <tr>\n",
       "      <th>9997</th>\n",
       "      <td>Female</td>\n",
       "      <td>63.867992</td>\n",
       "      <td>128.475319</td>\n",
       "    </tr>\n",
       "    <tr>\n",
       "      <th>9998</th>\n",
       "      <td>Female</td>\n",
       "      <td>69.034243</td>\n",
       "      <td>163.852461</td>\n",
       "    </tr>\n",
       "    <tr>\n",
       "      <th>9999</th>\n",
       "      <td>Female</td>\n",
       "      <td>61.944246</td>\n",
       "      <td>113.649103</td>\n",
       "    </tr>\n",
       "  </tbody>\n",
       "</table>\n",
       "<p>10000 rows × 3 columns</p>\n",
       "</div>"
      ],
      "text/plain": [
       "      Gender     Height      Weight\n",
       "0       Male  73.847017  241.893563\n",
       "1       Male  68.781904  162.310473\n",
       "2       Male  74.110105  212.740856\n",
       "3       Male  71.730978  220.042470\n",
       "4       Male  69.881796  206.349801\n",
       "...      ...        ...         ...\n",
       "9995  Female  66.172652  136.777454\n",
       "9996  Female  67.067155  170.867906\n",
       "9997  Female  63.867992  128.475319\n",
       "9998  Female  69.034243  163.852461\n",
       "9999  Female  61.944246  113.649103\n",
       "\n",
       "[10000 rows x 3 columns]"
      ]
     },
     "execution_count": 16,
     "metadata": {},
     "output_type": "execute_result"
    }
   ],
   "source": [
    "data = pd.read_csv(\"weight-height.csv\")\n",
    "data\n"
   ]
  },
  {
   "cell_type": "code",
   "execution_count": 3,
   "id": "b8e784bd",
   "metadata": {},
   "outputs": [
    {
     "name": "stdout",
     "output_type": "stream",
     "text": [
      "<class 'pandas.core.frame.DataFrame'>\n",
      "RangeIndex: 10000 entries, 0 to 9999\n",
      "Data columns (total 3 columns):\n",
      " #   Column  Non-Null Count  Dtype  \n",
      "---  ------  --------------  -----  \n",
      " 0   Gender  10000 non-null  object \n",
      " 1   Height  10000 non-null  float64\n",
      " 2   Weight  10000 non-null  float64\n",
      "dtypes: float64(2), object(1)\n",
      "memory usage: 234.5+ KB\n"
     ]
    }
   ],
   "source": [
    "data.info()"
   ]
  },
  {
   "cell_type": "markdown",
   "id": "966eb6b9",
   "metadata": {},
   "source": [
    "# Split data in input and output"
   ]
  },
  {
   "cell_type": "code",
   "execution_count": 17,
   "id": "7630b4d5",
   "metadata": {},
   "outputs": [
    {
     "name": "stdout",
     "output_type": "stream",
     "text": [
      "10000\n",
      "10000\n"
     ]
    }
   ],
   "source": [
    "X = data.Height.values\n",
    "Y = data.Weight.values\n",
    "\n",
    "print(len(X))\n",
    "print(len(Y))"
   ]
  },
  {
   "cell_type": "code",
   "execution_count": 18,
   "id": "04ecc935",
   "metadata": {},
   "outputs": [
    {
     "name": "stdout",
     "output_type": "stream",
     "text": [
      "73.847017017515\n",
      "241.893563180437\n"
     ]
    }
   ],
   "source": [
    "print(X[0])\n",
    "print(Y[0])"
   ]
  },
  {
   "cell_type": "code",
   "execution_count": 6,
   "id": "484f1f29",
   "metadata": {},
   "outputs": [
    {
     "data": {
      "text/plain": [
       "<matplotlib.collections.PathCollection at 0x2310ee45190>"
      ]
     },
     "execution_count": 6,
     "metadata": {},
     "output_type": "execute_result"
    },
    {
     "data": {
      "image/png": "[encoded data removed]",
      "text/plain": [
       "<Figure size 432x288 with 1 Axes>"
      ]
     },
     "metadata": {
      "needs_background": "light"
     },
     "output_type": "display_data"
    }
   ],
   "source": [
    "plt.scatter(X,Y)"
   ]
  },
  {
   "cell_type": "markdown",
   "id": "13fb16fb",
   "metadata": {},
   "source": [
    "# Line Function"
   ]
  },
  {
   "cell_type": "markdown",
   "id": "7c741817",
   "metadata": {},
   "source": [
    "* Y = WX + B\n",
    "* Algorithm try to find W,b"
   ]
  },
  {
   "cell_type": "code",
   "execution_count": 19,
   "id": "324bc355",
   "metadata": {},
   "outputs": [],
   "source": [
    "def line(w ,x , b=0):\n",
    "    return w*x + b   "
   ]
  },
  {
   "cell_type": "markdown",
   "id": "56821980",
   "metadata": {},
   "source": [
    "# Loss Function"
   ]
  },
  {
   "cell_type": "code",
   "execution_count": 20,
   "id": "0fdbcee6",
   "metadata": {},
   "outputs": [],
   "source": [
    "def mean_squared_error(y_true, y_pred):\n",
    "    s = (y_true - y_pred) ** 2\n",
    "    return np.sqrt(s.mean()) # return single number"
   ]
  },
  {
   "cell_type": "code",
   "execution_count": 21,
   "id": "ffa7ff23",
   "metadata": {},
   "outputs": [
    {
     "name": "stderr",
     "output_type": "stream",
     "text": [
      "C:\\Users\\Qazi Moawiz\\anaconda3\\lib\\site-packages\\pandas\\plotting\\_matplotlib\\core.py:1114: UserWarning: No data for colormapping provided via 'c'. Parameters 'cmap' will be ignored\n",
      "  scatter = ax.scatter(\n"
     ]
    },
    {
     "data": {
      "text/plain": [
       "Text(0.5, 0, 'B')"
      ]
     },
     "execution_count": 21,
     "metadata": {},
     "output_type": "execute_result"
    },
    {
     "data": {
      "image/png": "[encoded data removed]",
      "text/plain": [
       "<Figure size 720x360 with 2 Axes>"
      ]
     },
     "metadata": {
      "needs_background": "light"
     },
     "output_type": "display_data"
    }
   ],
   "source": [
    "plt.figure(figsize=(10,5))\n",
    "ax1 = plt.subplot(121)\n",
    "data.plot(kind='scatter',\n",
    "      x='Height',\n",
    "      y='Weight',\n",
    "      title=\"Weight and Height in Adults\",\n",
    "      ax=ax1)\n",
    "\n",
    "bs = [-100,-50,0,50,100,150]\n",
    "mses = []\n",
    "for b in bs:\n",
    "    y_pred = line(X,2,b)\n",
    "    mse = mean_squared_error(Y,y_pred)\n",
    "    mses.append(mse)\n",
    "    plt.plot(X,y_pred)\n",
    "#     break\n",
    "\n",
    "ax2 = plt.subplot(122)\n",
    "ax2.plot(bs,mses,'o-')\n",
    "plt.title(\"Cost as function of b\")\n",
    "plt.xlabel(\"B\")"
   ]
  },
  {
   "cell_type": "code",
   "execution_count": 24,
   "id": "324f6c24",
   "metadata": {},
   "outputs": [
    {
     "data": {
      "image/png": "[encoded data removed]",
      "text/plain": [
       "<Figure size 720x360 with 1 Axes>"
      ]
     },
     "metadata": {
      "needs_background": "light"
     },
     "output_type": "display_data"
    }
   ],
   "source": [
    "plt.figure(figsize=(10,5))\n",
    "ax1 = plt.subplot(121)\n",
    "data.plot(kind='scatter',\n",
    "      x='Height',\n",
    "      y='Weight',\n",
    "      title=\"Weight and Height in Adults\",\n",
    "      ax=ax1)\n",
    "\n",
    "bs = [50]\n",
    "mses = []\n",
    "for b in bs:\n",
    "    y_pred = line(X,2,b)\n",
    "    mse = mean_squared_error(Y,y_pred)\n",
    "    mses.append(mse)\n",
    "    plt.plot(X,y_pred,'r')\n",
    "#     break"
   ]
  },
  {
   "cell_type": "code",
   "execution_count": 25,
   "id": "746e5289",
   "metadata": {},
   "outputs": [],
   "source": [
    "import tensorflow as tf"
   ]
  },
  {
   "cell_type": "code",
   "execution_count": 26,
   "id": "26a96938",
   "metadata": {},
   "outputs": [
    {
     "name": "stdout",
     "output_type": "stream",
     "text": [
      "2.11.0\n"
     ]
    }
   ],
   "source": [
    "print(tf.__version__)"
   ]
  },
  {
   "cell_type": "code",
   "execution_count": 28,
   "id": "ce35973f",
   "metadata": {},
   "outputs": [],
   "source": [
    "from tensorflow.keras.models import Sequential\n",
    "from tensorflow.keras.layers import Dense\n",
    "from tensorflow.keras.optimizers import SGD, Adam\n"
   ]
  },
  {
   "cell_type": "code",
   "execution_count": 29,
   "id": "047cdb73",
   "metadata": {},
   "outputs": [
    {
     "data": {
      "text/html": [
       "<div>\n",
       "<style scoped>\n",
       "    .dataframe tbody tr th:only-of-type {\n",
       "        vertical-align: middle;\n",
       "    }\n",
       "\n",
       "    .dataframe tbody tr th {\n",
       "        vertical-align: top;\n",
       "    }\n",
       "\n",
       "    .dataframe thead th {\n",
       "        text-align: right;\n",
       "    }\n",
       "</style>\n",
       "<table border=\"1\" class=\"dataframe\">\n",
       "  <thead>\n",
       "    <tr style=\"text-align: right;\">\n",
       "      <th></th>\n",
       "      <th>Gender</th>\n",
       "      <th>Height</th>\n",
       "      <th>Weight</th>\n",
       "    </tr>\n",
       "  </thead>\n",
       "  <tbody>\n",
       "    <tr>\n",
       "      <th>0</th>\n",
       "      <td>Male</td>\n",
       "      <td>73.847017</td>\n",
       "      <td>241.893563</td>\n",
       "    </tr>\n",
       "    <tr>\n",
       "      <th>1</th>\n",
       "      <td>Male</td>\n",
       "      <td>68.781904</td>\n",
       "      <td>162.310473</td>\n",
       "    </tr>\n",
       "    <tr>\n",
       "      <th>2</th>\n",
       "      <td>Male</td>\n",
       "      <td>74.110105</td>\n",
       "      <td>212.740856</td>\n",
       "    </tr>\n",
       "    <tr>\n",
       "      <th>3</th>\n",
       "      <td>Male</td>\n",
       "      <td>71.730978</td>\n",
       "      <td>220.042470</td>\n",
       "    </tr>\n",
       "    <tr>\n",
       "      <th>4</th>\n",
       "      <td>Male</td>\n",
       "      <td>69.881796</td>\n",
       "      <td>206.349801</td>\n",
       "    </tr>\n",
       "  </tbody>\n",
       "</table>\n",
       "</div>"
      ],
      "text/plain": [
       "  Gender     Height      Weight\n",
       "0   Male  73.847017  241.893563\n",
       "1   Male  68.781904  162.310473\n",
       "2   Male  74.110105  212.740856\n",
       "3   Male  71.730978  220.042470\n",
       "4   Male  69.881796  206.349801"
      ]
     },
     "execution_count": 29,
     "metadata": {},
     "output_type": "execute_result"
    }
   ],
   "source": [
    "df = pd.read_csv(\"weight-height.csv\")\n",
    "df.head()"
   ]
  },
  {
   "cell_type": "code",
   "execution_count": 30,
   "id": "cd9ffbcb",
   "metadata": {},
   "outputs": [
    {
     "name": "stdout",
     "output_type": "stream",
     "text": [
      "<class 'pandas.core.frame.DataFrame'>\n",
      "RangeIndex: 10000 entries, 0 to 9999\n",
      "Data columns (total 3 columns):\n",
      " #   Column  Non-Null Count  Dtype  \n",
      "---  ------  --------------  -----  \n",
      " 0   Gender  10000 non-null  object \n",
      " 1   Height  10000 non-null  float64\n",
      " 2   Weight  10000 non-null  float64\n",
      "dtypes: float64(2), object(1)\n",
      "memory usage: 234.5+ KB\n"
     ]
    }
   ],
   "source": [
    "df.info()"
   ]
  },
  {
   "cell_type": "code",
   "execution_count": 31,
   "id": "d8ffc20a",
   "metadata": {},
   "outputs": [
    {
     "data": {
      "text/html": [
       "<div>\n",
       "<style scoped>\n",
       "    .dataframe tbody tr th:only-of-type {\n",
       "        vertical-align: middle;\n",
       "    }\n",
       "\n",
       "    .dataframe tbody tr th {\n",
       "        vertical-align: top;\n",
       "    }\n",
       "\n",
       "    .dataframe thead th {\n",
       "        text-align: right;\n",
       "    }\n",
       "</style>\n",
       "<table border=\"1\" class=\"dataframe\">\n",
       "  <thead>\n",
       "    <tr style=\"text-align: right;\">\n",
       "      <th></th>\n",
       "      <th>Height</th>\n",
       "      <th>Weight</th>\n",
       "    </tr>\n",
       "  </thead>\n",
       "  <tbody>\n",
       "    <tr>\n",
       "      <th>count</th>\n",
       "      <td>10000.000000</td>\n",
       "      <td>10000.000000</td>\n",
       "    </tr>\n",
       "    <tr>\n",
       "      <th>mean</th>\n",
       "      <td>66.367560</td>\n",
       "      <td>161.440357</td>\n",
       "    </tr>\n",
       "    <tr>\n",
       "      <th>std</th>\n",
       "      <td>3.847528</td>\n",
       "      <td>32.108439</td>\n",
       "    </tr>\n",
       "    <tr>\n",
       "      <th>min</th>\n",
       "      <td>54.263133</td>\n",
       "      <td>64.700127</td>\n",
       "    </tr>\n",
       "    <tr>\n",
       "      <th>25%</th>\n",
       "      <td>63.505620</td>\n",
       "      <td>135.818051</td>\n",
       "    </tr>\n",
       "    <tr>\n",
       "      <th>50%</th>\n",
       "      <td>66.318070</td>\n",
       "      <td>161.212928</td>\n",
       "    </tr>\n",
       "    <tr>\n",
       "      <th>75%</th>\n",
       "      <td>69.174262</td>\n",
       "      <td>187.169525</td>\n",
       "    </tr>\n",
       "    <tr>\n",
       "      <th>max</th>\n",
       "      <td>78.998742</td>\n",
       "      <td>269.989699</td>\n",
       "    </tr>\n",
       "  </tbody>\n",
       "</table>\n",
       "</div>"
      ],
      "text/plain": [
       "             Height        Weight\n",
       "count  10000.000000  10000.000000\n",
       "mean      66.367560    161.440357\n",
       "std        3.847528     32.108439\n",
       "min       54.263133     64.700127\n",
       "25%       63.505620    135.818051\n",
       "50%       66.318070    161.212928\n",
       "75%       69.174262    187.169525\n",
       "max       78.998742    269.989699"
      ]
     },
     "execution_count": 31,
     "metadata": {},
     "output_type": "execute_result"
    }
   ],
   "source": [
    "df.describe()"
   ]
  },
  {
   "cell_type": "code",
   "execution_count": 34,
   "id": "464ebf09",
   "metadata": {},
   "outputs": [
    {
     "data": {
      "text/plain": [
       "73.847017017515"
      ]
     },
     "execution_count": 34,
     "metadata": {},
     "output_type": "execute_result"
    }
   ],
   "source": [
    "X = df.Height.values\t\n",
    "X[0]"
   ]
  },
  {
   "cell_type": "code",
   "execution_count": 37,
   "id": "292a4bf9",
   "metadata": {},
   "outputs": [
    {
     "data": {
      "text/plain": [
       "array([73.84701702])"
      ]
     },
     "execution_count": 37,
     "metadata": {},
     "output_type": "execute_result"
    }
   ],
   "source": [
    "X= df[[\"Height\"]].values # In Deep learning we take values in the form of array\n",
    "X[0]"
   ]
  },
  {
   "cell_type": "code",
   "execution_count": 39,
   "id": "bc7febe1",
   "metadata": {},
   "outputs": [
    {
     "data": {
      "text/plain": [
       "array([241.89356318])"
      ]
     },
     "execution_count": 39,
     "metadata": {},
     "output_type": "execute_result"
    }
   ],
   "source": [
    "Y_true = df[[\"Weight\"]].values\n",
    "Y_true[0]"
   ]
  },
  {
   "cell_type": "code",
   "execution_count": 41,
   "id": "b0d78240",
   "metadata": {},
   "outputs": [
    {
     "name": "stdout",
     "output_type": "stream",
     "text": [
      "(10000, 1)\n",
      "(10000, 1)\n"
     ]
    }
   ],
   "source": [
    "print(X.shape)\n",
    "print(Y_true.shape)"
   ]
  },
  {
   "cell_type": "code",
   "execution_count": 43,
   "id": "b00c6b76",
   "metadata": {},
   "outputs": [
    {
     "data": {
      "text/plain": [
       "(1,)"
      ]
     },
     "execution_count": 43,
     "metadata": {},
     "output_type": "execute_result"
    }
   ],
   "source": [
    "X[0].shape # only one index is present"
   ]
  },
  {
   "cell_type": "code",
   "execution_count": 49,
   "id": "90d06381",
   "metadata": {},
   "outputs": [
    {
     "data": {
      "text/plain": [
       "array(272)"
      ]
     },
     "metadata": {},
     "output_type": "display_data"
    },
    {
     "data": {
      "text/plain": [
       "array([1, 2, 3, 4])"
      ]
     },
     "metadata": {},
     "output_type": "display_data"
    },
    {
     "data": {
      "text/plain": [
       "array([[1, 2, 4, 5],\n",
       "       [3, 4, 5, 6]])"
      ]
     },
     "metadata": {},
     "output_type": "display_data"
    },
    {
     "data": {
      "text/plain": [
       "0"
      ]
     },
     "metadata": {},
     "output_type": "display_data"
    },
    {
     "data": {
      "text/plain": [
       "1"
      ]
     },
     "metadata": {},
     "output_type": "display_data"
    },
    {
     "data": {
      "text/plain": [
       "2"
      ]
     },
     "metadata": {},
     "output_type": "display_data"
    },
    {
     "data": {
      "text/plain": [
       "()"
      ]
     },
     "metadata": {},
     "output_type": "display_data"
    },
    {
     "data": {
      "text/plain": [
       "(4,)"
      ]
     },
     "metadata": {},
     "output_type": "display_data"
    },
    {
     "data": {
      "text/plain": [
       "(2, 4)"
      ]
     },
     "metadata": {},
     "output_type": "display_data"
    }
   ],
   "source": [
    "display(np.array(272))\n",
    "display(np.array([1,2,3,4]))\n",
    "display(np.array([[1,2,4,5],[3,4,5,6]]))\n",
    "\n",
    "display(np.array(272).ndim)\n",
    "display(np.array([1,2,3,4]).ndim)\n",
    "display(np.array([[1,2,4,5],[3,4,5,6]]).ndim)\n",
    "\n",
    "display(np.array(272).shape)\n",
    "display(np.array([1,2,3,4]).shape)\n",
    "display(np.array([[1,2,4,5],[3,4,5,6]]).shape)"
   ]
  },
  {
   "cell_type": "markdown",
   "id": "a7bde2a0",
   "metadata": {},
   "source": [
    "# Create Nural Network"
   ]
  },
  {
   "cell_type": "code",
   "execution_count": 57,
   "id": "f989ca1a",
   "metadata": {},
   "outputs": [
    {
     "name": "stdout",
     "output_type": "stream",
     "text": [
      "[73.84701702]\n"
     ]
    },
    {
     "data": {
      "text/plain": [
       "(1,)"
      ]
     },
     "metadata": {},
     "output_type": "display_data"
    }
   ],
   "source": [
    "print(X[0])\n",
    "display(X[0].shape)"
   ]
  },
  {
   "attachments": {},
   "cell_type": "markdown",
   "id": "80a3517e",
   "metadata": {},
   "source": [
    "# We are use three method here\n",
    "* Add (help to add layers in sequential model)\n",
    "* Evaluate (For testing purpose )\n",
    "* Fit (For training purpose )"
   ]
  },
  {
   "cell_type": "code",
   "execution_count": 59,
   "id": "9e573897",
   "metadata": {},
   "outputs": [],
   "source": [
    "model = Sequential()  # create object for sequential"
   ]
  },
  {
   "cell_type": "code",
   "execution_count": 60,
   "id": "f6de19fc",
   "metadata": {},
   "outputs": [],
   "source": [
    "model.add(Dense(1 , input_shape = (1,))) # 1 = no of node go to the next layer. # input_shape =  pass the shape of X[0] "
   ]
  },
  {
   "cell_type": "markdown",
   "id": "36007451",
   "metadata": {},
   "source": [
    "# Model Summary"
   ]
  },
  {
   "cell_type": "code",
   "execution_count": 62,
   "id": "56b5a7a2",
   "metadata": {},
   "outputs": [
    {
     "name": "stdout",
     "output_type": "stream",
     "text": [
      "Model: \"sequential\"\n",
      "_________________________________________________________________\n",
      " Layer (type)                Output Shape              Param #   \n",
      "=================================================================\n",
      " dense (Dense)               (None, 1)                 2         \n",
      "                                                                 \n",
      "=================================================================\n",
      "Total params: 2\n",
      "Trainable params: 2\n",
      "Non-trainable params: 0\n",
      "_________________________________________________________________\n"
     ]
    }
   ],
   "source": [
    "model.summary() # it will the summary of model which  are made by us"
   ]
  },
  {
   "cell_type": "markdown",
   "id": "a6f43a0c",
   "metadata": {},
   "source": [
    "# Compilation Steps"
   ]
  },
  {
   "cell_type": "code",
   "execution_count": 69,
   "id": "92469f68",
   "metadata": {},
   "outputs": [],
   "source": [
    "model.compile(Adam(learning_rate = 0.8) , \"mean_squared_error\" ) \n",
    "# lr =learning rate steps\n",
    "# in compile we have pass three things( 1 = optimizeer name , \n",
    "# 2 = loss function, Every problem has its own loss function, 3 =  Matrix)\n"
   ]
  },
  {
   "cell_type": "markdown",
   "id": "ce05f234",
   "metadata": {},
   "source": [
    "# Split Data for training and testing"
   ]
  },
  {
   "cell_type": "code",
   "execution_count": 71,
   "id": "3afe9d13",
   "metadata": {},
   "outputs": [],
   "source": [
    "X_train = X[ : 8000]  # split the Data\n",
    "X_test = X[8000: ]\n",
    "\n",
    "Y_train = Y_true[ : 8000]\n",
    "Y_test = Y_true[8000: ]"
   ]
  },
  {
   "cell_type": "code",
   "execution_count": 73,
   "id": "6acc4c84",
   "metadata": {},
   "outputs": [
    {
     "name": "stdout",
     "output_type": "stream",
     "text": [
      "8000\n",
      "2000\n"
     ]
    }
   ],
   "source": [
    "print(len(X_train)) \n",
    "\n",
    "print(len(X_test))"
   ]
  },
  {
   "cell_type": "markdown",
   "id": "5b410506",
   "metadata": {},
   "source": [
    "# Now Start Train the model"
   ]
  },
  {
   "cell_type": "code",
   "execution_count": 78,
   "id": "d18f30ae",
   "metadata": {},
   "outputs": [
    {
     "name": "stdout",
     "output_type": "stream",
     "text": [
      "Epoch 1/50\n",
      "63/63 [==============================] - 0s 1ms/step - loss: 152.4028\n",
      "Epoch 2/50\n",
      "63/63 [==============================] - 0s 1ms/step - loss: 158.2260\n",
      "Epoch 3/50\n",
      "63/63 [==============================] - 0s 1ms/step - loss: 161.9745\n",
      "Epoch 4/50\n",
      "63/63 [==============================] - 0s 1ms/step - loss: 155.1514\n",
      "Epoch 5/50\n",
      "63/63 [==============================] - 0s 2ms/step - loss: 163.9875\n",
      "Epoch 6/50\n",
      "63/63 [==============================] - 0s 1ms/step - loss: 156.5427\n",
      "Epoch 7/50\n",
      "63/63 [==============================] - 0s 1ms/step - loss: 154.6834\n",
      "Epoch 8/50\n",
      "63/63 [==============================] - 0s 1ms/step - loss: 155.5392\n",
      "Epoch 9/50\n",
      "63/63 [==============================] - 0s 1ms/step - loss: 168.6113\n",
      "Epoch 10/50\n",
      "63/63 [==============================] - 0s 2ms/step - loss: 162.1217\n",
      "Epoch 11/50\n",
      "63/63 [==============================] - 0s 2ms/step - loss: 159.0372\n",
      "Epoch 12/50\n",
      "63/63 [==============================] - 0s 2ms/step - loss: 172.6142\n",
      "Epoch 13/50\n",
      "63/63 [==============================] - 0s 1ms/step - loss: 166.0414\n",
      "Epoch 14/50\n",
      "63/63 [==============================] - 0s 1ms/step - loss: 158.5235\n",
      "Epoch 15/50\n",
      "63/63 [==============================] - 0s 1ms/step - loss: 160.5507\n",
      "Epoch 16/50\n",
      "63/63 [==============================] - 0s 1ms/step - loss: 154.3422\n",
      "Epoch 17/50\n",
      "63/63 [==============================] - 0s 1ms/step - loss: 157.9355\n",
      "Epoch 18/50\n",
      "63/63 [==============================] - 0s 2ms/step - loss: 158.8987\n",
      "Epoch 19/50\n",
      "63/63 [==============================] - 0s 1ms/step - loss: 160.5898\n",
      "Epoch 20/50\n",
      "63/63 [==============================] - 0s 1ms/step - loss: 161.8329\n",
      "Epoch 21/50\n",
      "63/63 [==============================] - 0s 1ms/step - loss: 155.8249\n",
      "Epoch 22/50\n",
      "63/63 [==============================] - 0s 1ms/step - loss: 155.1681\n",
      "Epoch 23/50\n",
      "63/63 [==============================] - 0s 1ms/step - loss: 164.4145\n",
      "Epoch 24/50\n",
      "63/63 [==============================] - 0s 1ms/step - loss: 156.8840\n",
      "Epoch 25/50\n",
      "63/63 [==============================] - 0s 1ms/step - loss: 165.3311\n",
      "Epoch 26/50\n",
      "63/63 [==============================] - 0s 1ms/step - loss: 167.6102\n",
      "Epoch 27/50\n",
      "63/63 [==============================] - 0s 1ms/step - loss: 162.9180\n",
      "Epoch 28/50\n",
      "63/63 [==============================] - 0s 2ms/step - loss: 158.7572\n",
      "Epoch 29/50\n",
      "63/63 [==============================] - 0s 2ms/step - loss: 160.3205\n",
      "Epoch 30/50\n",
      "63/63 [==============================] - 0s 1ms/step - loss: 154.9980\n",
      "Epoch 31/50\n",
      "63/63 [==============================] - 0s 1ms/step - loss: 167.2142\n",
      "Epoch 32/50\n",
      "63/63 [==============================] - 0s 1ms/step - loss: 170.7180\n",
      "Epoch 33/50\n",
      "63/63 [==============================] - 0s 1ms/step - loss: 158.4302\n",
      "Epoch 34/50\n",
      "63/63 [==============================] - 0s 1ms/step - loss: 157.0324\n",
      "Epoch 35/50\n",
      "63/63 [==============================] - 0s 1ms/step - loss: 158.2313\n",
      "Epoch 36/50\n",
      "63/63 [==============================] - 0s 1ms/step - loss: 154.3219\n",
      "Epoch 37/50\n",
      "63/63 [==============================] - 0s 1ms/step - loss: 159.2227\n",
      "Epoch 38/50\n",
      "63/63 [==============================] - 0s 1ms/step - loss: 169.3425\n",
      "Epoch 39/50\n",
      "63/63 [==============================] - 0s 1ms/step - loss: 161.4948\n",
      "Epoch 40/50\n",
      "63/63 [==============================] - 0s 1ms/step - loss: 172.8086\n",
      "Epoch 41/50\n",
      "63/63 [==============================] - 0s 1ms/step - loss: 166.8775\n",
      "Epoch 42/50\n",
      "63/63 [==============================] - 0s 1ms/step - loss: 158.4700\n",
      "Epoch 43/50\n",
      "63/63 [==============================] - 0s 1ms/step - loss: 165.8237\n",
      "Epoch 44/50\n",
      "63/63 [==============================] - 0s 1ms/step - loss: 160.7086\n",
      "Epoch 45/50\n",
      "63/63 [==============================] - 0s 2ms/step - loss: 153.5975\n",
      "Epoch 46/50\n",
      "63/63 [==============================] - 0s 2ms/step - loss: 159.4628\n",
      "Epoch 47/50\n",
      "63/63 [==============================] - 0s 2ms/step - loss: 162.2333\n",
      "Epoch 48/50\n",
      "63/63 [==============================] - 0s 1ms/step - loss: 158.8650\n",
      "Epoch 49/50\n",
      "63/63 [==============================] - 0s 1ms/step - loss: 156.0286\n",
      "Epoch 50/50\n",
      "63/63 [==============================] - 0s 1ms/step - loss: 163.4847\n"
     ]
    },
    {
     "data": {
      "text/plain": [
       "<keras.callbacks.History at 0x23126e0d070>"
      ]
     },
     "execution_count": 78,
     "metadata": {},
     "output_type": "execute_result"
    }
   ],
   "source": [
    "model.fit(X_train, Y_train  , batch_size = 128 , epochs=50)"
   ]
  },
  {
   "cell_type": "markdown",
   "id": "107d603c",
   "metadata": {},
   "source": [
    "# Test on unseen data\n",
    "* For to find mean_squared_error from model"
   ]
  },
  {
   "cell_type": "code",
   "execution_count": 80,
   "id": "b5cdbba9",
   "metadata": {},
   "outputs": [
    {
     "name": "stdout",
     "output_type": "stream",
     "text": [
      "63/63 [==============================] - 0s 1ms/step - loss: 290.9391\n"
     ]
    },
    {
     "data": {
      "text/plain": [
       "290.93914794921875"
      ]
     },
     "execution_count": 80,
     "metadata": {},
     "output_type": "execute_result"
    }
   ],
   "source": [
    "model.evaluate(X_test , Y_test)"
   ]
  },
  {
   "cell_type": "markdown",
   "id": "fab24641",
   "metadata": {},
   "source": [
    "# Prediction with model"
   ]
  },
  {
   "cell_type": "code",
   "execution_count": 87,
   "id": "1a4d0fdd",
   "metadata": {},
   "outputs": [
    {
     "name": "stdout",
     "output_type": "stream",
     "text": [
      "313/313 [==============================] - 0s 1ms/step\n"
     ]
    },
    {
     "data": {
      "text/plain": [
       "array([[227.60568],\n",
       "       [188.35959],\n",
       "       [229.64426],\n",
       "       ...,\n",
       "       [150.28503],\n",
       "       [190.31479],\n",
       "       [135.37921]], dtype=float32)"
      ]
     },
     "execution_count": 87,
     "metadata": {},
     "output_type": "execute_result"
    }
   ],
   "source": [
    "Y_pred = model.predict(X)\n",
    "Y_pred"
   ]
  },
  {
   "cell_type": "code",
   "execution_count": 86,
   "id": "c3c34677",
   "metadata": {},
   "outputs": [
    {
     "data": {
      "text/plain": [
       "array([[118.51301293],\n",
       "       [122.56183473],\n",
       "       [106.78231003],\n",
       "       ...,\n",
       "       [128.47531878],\n",
       "       [163.85246135],\n",
       "       [113.64910268]])"
      ]
     },
     "execution_count": 86,
     "metadata": {},
     "output_type": "execute_result"
    }
   ],
   "source": [
    "Y_test"
   ]
  },
  {
   "cell_type": "code",
   "execution_count": 88,
   "id": "7d71455f",
   "metadata": {},
   "outputs": [
    {
     "name": "stderr",
     "output_type": "stream",
     "text": [
      "C:\\Users\\Qazi Moawiz\\anaconda3\\lib\\site-packages\\pandas\\plotting\\_matplotlib\\core.py:1114: UserWarning: No data for colormapping provided via 'c'. Parameters 'cmap' will be ignored\n",
      "  scatter = ax.scatter(\n"
     ]
    },
    {
     "data": {
      "text/plain": [
       "[<matplotlib.lines.Line2D at 0x23127029850>]"
      ]
     },
     "execution_count": 88,
     "metadata": {},
     "output_type": "execute_result"
    },
    {
     "data": {
      "image/png": "[encoded data removed]",
      "text/plain": [
       "<Figure size 432x288 with 1 Axes>"
      ]
     },
     "metadata": {
      "needs_background": "light"
     },
     "output_type": "display_data"
    }
   ],
   "source": [
    "df.plot(kind='scatter',\n",
    "      x='Height',\n",
    "      y='Weight',\n",
    "      title=\"Weight and Height in Adults\"\n",
    "       )\n",
    "\n",
    "plt.plot(X , Y_pred , color = \"red\" , linewidth = 2)"
   ]
  },
  {
   "cell_type": "code",
   "execution_count": 89,
   "id": "590de71b",
   "metadata": {},
   "outputs": [],
   "source": [
    "w, b = model.get_weights()"
   ]
  },
  {
   "cell_type": "code",
   "execution_count": 90,
   "id": "8ba8ade3",
   "metadata": {},
   "outputs": [
    {
     "name": "stdout",
     "output_type": "stream",
     "text": [
      "[[7.748322]]\n",
      "[-344.58475]\n"
     ]
    }
   ],
   "source": [
    "print(w)\n",
    "print(b)"
   ]
  },
  {
   "cell_type": "code",
   "execution_count": 91,
   "id": "f7957576",
   "metadata": {},
   "outputs": [
    {
     "name": "stdout",
     "output_type": "stream",
     "text": [
      "1/1 [==============================] - 0s 73ms/step\n"
     ]
    },
    {
     "data": {
      "text/plain": [
       "array([[1515.0126]], dtype=float32)"
      ]
     },
     "execution_count": 91,
     "metadata": {},
     "output_type": "execute_result"
    }
   ],
   "source": [
    "model.predict([240])"
   ]
  },
  {
   "cell_type": "code",
   "execution_count": 99,
   "id": "43e9ad83",
   "metadata": {},
   "outputs": [
    {
     "name": "stdout",
     "output_type": "stream",
     "text": [
      "1/1 [==============================] - 0s 31ms/step\n"
     ]
    },
    {
     "data": {
      "text/plain": [
       "<matplotlib.collections.PathCollection at 0x23128311100>"
      ]
     },
     "execution_count": 99,
     "metadata": {},
     "output_type": "execute_result"
    },
    {
     "data": {
      "image/png": "[encoded data removed]",
      "text/plain": [
       "<Figure size 432x288 with 1 Axes>"
      ]
     },
     "metadata": {
      "needs_background": "light"
     },
     "output_type": "display_data"
    }
   ],
   "source": [
    "run_height = 75\n",
    "df.plot(kind='scatter',\n",
    "      x='Height',\n",
    "      y='Weight',\n",
    "      title=\"Weight and Height in Adults\"\n",
    "       )\n",
    "\n",
    "plt.plot(X , Y_pred , color = \"red\" , linewidth = 2)\n",
    "\n",
    "plt.scatter(x=run_height ,  y = model.predict([run_height]), color = \"orange\")"
   ]
  },
  {
   "cell_type": "code",
   "execution_count": null,
   "id": "893ffe09",
   "metadata": {},
   "outputs": [],
   "source": []
  }
 ],
 "metadata": {
  "kernelspec": {
   "display_name": "Python 3 (ipykernel)",
   "language": "python",
   "name": "python3"
  },
  "language_info": {
   "codemirror_mode": {
    "name": "ipython",
    "version": 3
   },
   "file_extension": ".py",
   "mimetype": "text/x-python",
   "name": "python",
   "nbconvert_exporter": "python",
   "pygments_lexer": "ipython3",
   "version": "3.9.12"
  }
 },
 "nbformat": 4,
 "nbformat_minor": 5
}
